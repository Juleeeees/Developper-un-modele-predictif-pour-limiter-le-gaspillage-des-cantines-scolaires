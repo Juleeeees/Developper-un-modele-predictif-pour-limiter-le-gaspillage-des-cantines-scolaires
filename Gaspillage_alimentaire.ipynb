{
 "cells": [
  {
   "cell_type": "code",
   "execution_count": 444,
   "id": "02e5b825-8809-467f-a1bd-c95bea2b3936",
   "metadata": {},
   "outputs": [],
   "source": [
    "import pandas as pd"
   ]
  },
  {
   "cell_type": "code",
   "execution_count": 445,
   "id": "6cc106cc-cb48-463f-8be7-5fbeb168a5a5",
   "metadata": {},
   "outputs": [],
   "source": [
    "frequentation = pd.read_csv(\"frequentation.csv\")\n",
    "menu = pd.read_csv(\"menus.csv\")\n"
   ]
  },
  {
   "cell_type": "markdown",
   "id": "b3059a52-84b5-4aaa-b95e-c2d4d33f7bc1",
   "metadata": {},
   "source": [
    "### NETTOYAGE"
   ]
  },
  {
   "cell_type": "markdown",
   "id": "af0dca11-14e6-41db-b55a-c94de8175759",
   "metadata": {},
   "source": [
    "## frequentation"
   ]
  },
  {
   "cell_type": "code",
   "execution_count": 446,
   "id": "d10a1a4f-3edc-4263-b588-f6c386c1e18b",
   "metadata": {},
   "outputs": [],
   "source": [
    "frequentation2 = frequentation.copy()\n",
    "\n",
    "ind2 = frequentation2[frequentation2.reel == 0].index\n",
    "frequentation2.drop(ind2, inplace = True)\n",
    "\n",
    "\n",
    "\n",
    "#j'enleve toute les lignes mercredi car elles concernent les centre aérées\n",
    "ind = frequentation2[frequentation2.jour == \"Mercredi\"].index\n",
    "frequentation2.drop(ind, inplace = True)\n",
    "\n",
    "ind5 = frequentation2[frequentation2.vacances == 1].index\n",
    "frequentation2.drop(ind5, inplace = True)\n",
    "\n",
    "\n",
    "ind6 = frequentation2[frequentation2.greves == 1].index\n",
    "frequentation2.drop(ind6, inplace = True)\n",
    "\n",
    "# je remet les effectifs correcte car parfois dans la même années scolaire l'effectif change d'un mois à l'autre\n",
    "frequentation2 = frequentation2.replace(17652, 17373)\n",
    "frequentation2 = frequentation2.replace(18497, 18633)\n",
    "\n",
    "\n",
    "frequentation2[\"ratio\"] = frequentation2.reel/frequentation2.effectif*100\n",
    "\n",
    "\n",
    "# on ne garde que les fréquentations supérieur ou égale à 60% car en dessous il y a des varitions trop hasardeuses\n",
    "ind3 = frequentation2[frequentation2.ratio < 60 ].index\n",
    "frequentation2.drop(ind3, inplace = True)\n",
    "\n",
    "\n",
    "# On créé le dataframe sur lequel on va travailler\n",
    "FM = frequentation2.merge(menu, how = \"inner\", on = \"date\")\n",
    "FM[\"ratio\"] = FM.reel/FM.effectif*100"
   ]
  },
  {
   "cell_type": "markdown",
   "id": "8e78ad06-b12b-496c-8f05-9d1cd39b5a1e",
   "metadata": {},
   "source": [
    "## menu"
   ]
  },
  {
   "cell_type": "code",
   "execution_count": 447,
   "id": "615219b5-ad5d-4bf1-9c11-90e5d0aec02d",
   "metadata": {},
   "outputs": [],
   "source": [
    "ind7 = menu[menu.menu == \"[]\"].index\n",
    "menu.drop(ind7, inplace = True)\n",
    "\n",
    "ind8 = menu[menu.menu == \"['repas greves']\"].index\n",
    "menu.drop(ind8, inplace = True)\n",
    "\n",
    "ind9 = menu[menu.menu == \"['grèves']\"].index\n",
    "menu.drop(ind9, inplace = True)\n",
    "\n",
    "\n",
    "ind11 = menu[menu.menu == \"['gréves', 'repas de depannage', 'ou froid']\"].index\n",
    "menu.drop(ind11, inplace = True)\n",
    "\n",
    "\n",
    "ind111 = menu[menu.menu == \"['menu depannage ']\"].index\n",
    "menu.drop(ind111, inplace = True)"
   ]
  },
  {
   "cell_type": "code",
   "execution_count": 448,
   "id": "11968360-cc6d-4ea4-9d65-41dcf13b5852",
   "metadata": {},
   "outputs": [],
   "source": [
    "#plus tard pour notre anova on aura besoin de chaque mois traitable individuellement \n",
    "#on créé une colonne par mois dans notre dataframe\n",
    "\n",
    "frequentation3 = pd.get_dummies(FM.mois)\n",
    "FM = FM.join(frequentation3)"
   ]
  },
  {
   "cell_type": "code",
   "execution_count": 449,
   "id": "9195c7f9-c716-4707-bc54-9b68aa5d8ecf",
   "metadata": {},
   "outputs": [],
   "source": [
    "#plus tard pour notre anova on aura besoin de chaque jpur traitable individuellement \n",
    "#on créé une colonne par jour dans notre dataframe\n",
    "\n",
    "frequentation4 = pd.get_dummies(FM.jour)\n",
    "FM = FM.join(frequentation4)"
   ]
  },
  {
   "cell_type": "code",
   "execution_count": 450,
   "id": "beb7232c-2836-4b08-a53b-a0ce62bc0f80",
   "metadata": {},
   "outputs": [],
   "source": [
    "frequentation2 = frequentation2.drop(columns = \"Unnamed: 0\")\n",
    "menu = menu.drop(columns = \"Unnamed: 0\")"
   ]
  },
  {
   "cell_type": "markdown",
   "id": "9c554260-2b03-49e9-b384-eec583d121bf",
   "metadata": {},
   "source": [
    "### ANOVA MENU"
   ]
  },
  {
   "cell_type": "code",
   "execution_count": 451,
   "id": "c8772484-381c-4d9d-b78f-06c366e3b88f",
   "metadata": {},
   "outputs": [],
   "source": [
    "import statsmodels.api as sm\n",
    "from statsmodels.formula.api import ols"
   ]
  },
  {
   "cell_type": "code",
   "execution_count": 452,
   "id": "433c9d05-1cd3-405c-8bc8-0579106e055d",
   "metadata": {},
   "outputs": [
    {
     "data": {
      "text/html": [
       "<table class=\"simpletable\">\n",
       "<caption>OLS Regression Results</caption>\n",
       "<tr>\n",
       "  <th>Dep. Variable:</th>          <td>reel</td>       <th>  R-squared (uncentered):</th>      <td>   0.999</td> \n",
       "</tr>\n",
       "<tr>\n",
       "  <th>Model:</th>                   <td>OLS</td>       <th>  Adj. R-squared (uncentered):</th> <td>   0.999</td> \n",
       "</tr>\n",
       "<tr>\n",
       "  <th>Method:</th>             <td>Least Squares</td>  <th>  F-statistic:       </th>          <td>1.125e+05</td>\n",
       "</tr>\n",
       "<tr>\n",
       "  <th>Date:</th>             <td>Wed, 19 Jul 2023</td> <th>  Prob (F-statistic):</th>           <td>  0.00</td>  \n",
       "</tr>\n",
       "<tr>\n",
       "  <th>Time:</th>                 <td>12:14:34</td>     <th>  Log-Likelihood:    </th>          <td> -7294.0</td> \n",
       "</tr>\n",
       "<tr>\n",
       "  <th>No. Observations:</th>      <td>  1003</td>      <th>  AIC:               </th>          <td>1.461e+04</td>\n",
       "</tr>\n",
       "<tr>\n",
       "  <th>Df Residuals:</th>          <td>   990</td>      <th>  BIC:               </th>          <td>1.468e+04</td>\n",
       "</tr>\n",
       "<tr>\n",
       "  <th>Df Model:</th>              <td>    13</td>      <th>                     </th>              <td> </td>    \n",
       "</tr>\n",
       "<tr>\n",
       "  <th>Covariance Type:</th>      <td>nonrobust</td>    <th>                     </th>              <td> </td>    \n",
       "</tr>\n",
       "</table>\n",
       "<table class=\"simpletable\">\n",
       "<tr>\n",
       "         <td></td>            <th>coef</th>     <th>std err</th>      <th>t</th>      <th>P>|t|</th>  <th>[0.025</th>    <th>0.975]</th>  \n",
       "</tr>\n",
       "<tr>\n",
       "  <th>effectif</th>        <td>    0.7292</td> <td>    0.002</td> <td>  394.604</td> <td> 0.000</td> <td>    0.726</td> <td>    0.733</td>\n",
       "</tr>\n",
       "<tr>\n",
       "  <th>viande</th>          <td> -339.2017</td> <td>   35.005</td> <td>   -9.690</td> <td> 0.000</td> <td> -407.894</td> <td> -270.509</td>\n",
       "</tr>\n",
       "<tr>\n",
       "  <th>poisson</th>         <td>   80.6714</td> <td>   34.798</td> <td>    2.318</td> <td> 0.021</td> <td>   12.385</td> <td>  148.957</td>\n",
       "</tr>\n",
       "<tr>\n",
       "  <th>Fevrier</th>         <td> -151.2662</td> <td>   44.668</td> <td>   -3.386</td> <td> 0.001</td> <td> -238.921</td> <td>  -63.611</td>\n",
       "</tr>\n",
       "<tr>\n",
       "  <th>Juin</th>            <td> -603.1757</td> <td>   36.175</td> <td>  -16.674</td> <td> 0.000</td> <td> -674.164</td> <td> -532.187</td>\n",
       "</tr>\n",
       "<tr>\n",
       "  <th>Juillet</th>         <td>-1587.3576</td> <td>  107.332</td> <td>  -14.789</td> <td> 0.000</td> <td>-1797.982</td> <td>-1376.733</td>\n",
       "</tr>\n",
       "<tr>\n",
       "  <th>Septembre</th>       <td> -186.9655</td> <td>   34.716</td> <td>   -5.386</td> <td> 0.000</td> <td> -255.090</td> <td> -118.841</td>\n",
       "</tr>\n",
       "<tr>\n",
       "  <th>Lundi</th>           <td> -433.0092</td> <td>   27.583</td> <td>  -15.698</td> <td> 0.000</td> <td> -487.138</td> <td> -378.881</td>\n",
       "</tr>\n",
       "<tr>\n",
       "  <th>Vendredi</th>        <td>  184.7106</td> <td>   35.795</td> <td>    5.160</td> <td> 0.000</td> <td>  114.469</td> <td>  254.953</td>\n",
       "</tr>\n",
       "<tr>\n",
       "  <th>inc_grippe</th>      <td>   -0.0149</td> <td>    0.003</td> <td>   -5.904</td> <td> 0.000</td> <td>   -0.020</td> <td>   -0.010</td>\n",
       "</tr>\n",
       "<tr>\n",
       "  <th>veille_vacances</th> <td> -220.9788</td> <td>   69.385</td> <td>   -3.185</td> <td> 0.001</td> <td> -357.137</td> <td>  -84.821</td>\n",
       "</tr>\n",
       "<tr>\n",
       "  <th>noel</th>            <td> 1147.8894</td> <td>  133.562</td> <td>    8.594</td> <td> 0.000</td> <td>  885.793</td> <td> 1409.986</td>\n",
       "</tr>\n",
       "<tr>\n",
       "  <th>veille_ferie</th>    <td> -324.2608</td> <td>  118.175</td> <td>   -2.744</td> <td> 0.006</td> <td> -556.164</td> <td>  -92.358</td>\n",
       "</tr>\n",
       "</table>\n",
       "<table class=\"simpletable\">\n",
       "<tr>\n",
       "  <th>Omnibus:</th>       <td>100.847</td> <th>  Durbin-Watson:     </th> <td>   1.156</td>\n",
       "</tr>\n",
       "<tr>\n",
       "  <th>Prob(Omnibus):</th> <td> 0.000</td>  <th>  Jarque-Bera (JB):  </th> <td> 350.169</td>\n",
       "</tr>\n",
       "<tr>\n",
       "  <th>Skew:</th>          <td>-0.448</td>  <th>  Prob(JB):          </th> <td>9.16e-77</td>\n",
       "</tr>\n",
       "<tr>\n",
       "  <th>Kurtosis:</th>      <td> 5.753</td>  <th>  Cond. No.          </th> <td>2.30e+05</td>\n",
       "</tr>\n",
       "</table><br/><br/>Notes:<br/>[1] R² is computed without centering (uncentered) since the model does not contain a constant.<br/>[2] Standard Errors assume that the covariance matrix of the errors is correctly specified.<br/>[3] The condition number is large, 2.3e+05. This might indicate that there are<br/>strong multicollinearity or other numerical problems."
      ],
      "text/plain": [
       "<class 'statsmodels.iolib.summary.Summary'>\n",
       "\"\"\"\n",
       "                                 OLS Regression Results                                \n",
       "=======================================================================================\n",
       "Dep. Variable:                   reel   R-squared (uncentered):                   0.999\n",
       "Model:                            OLS   Adj. R-squared (uncentered):              0.999\n",
       "Method:                 Least Squares   F-statistic:                          1.125e+05\n",
       "Date:                Wed, 19 Jul 2023   Prob (F-statistic):                        0.00\n",
       "Time:                        12:14:34   Log-Likelihood:                         -7294.0\n",
       "No. Observations:                1003   AIC:                                  1.461e+04\n",
       "Df Residuals:                     990   BIC:                                  1.468e+04\n",
       "Df Model:                          13                                                  \n",
       "Covariance Type:            nonrobust                                                  \n",
       "===================================================================================\n",
       "                      coef    std err          t      P>|t|      [0.025      0.975]\n",
       "-----------------------------------------------------------------------------------\n",
       "effectif            0.7292      0.002    394.604      0.000       0.726       0.733\n",
       "viande           -339.2017     35.005     -9.690      0.000    -407.894    -270.509\n",
       "poisson            80.6714     34.798      2.318      0.021      12.385     148.957\n",
       "Fevrier          -151.2662     44.668     -3.386      0.001    -238.921     -63.611\n",
       "Juin             -603.1757     36.175    -16.674      0.000    -674.164    -532.187\n",
       "Juillet         -1587.3576    107.332    -14.789      0.000   -1797.982   -1376.733\n",
       "Septembre        -186.9655     34.716     -5.386      0.000    -255.090    -118.841\n",
       "Lundi            -433.0092     27.583    -15.698      0.000    -487.138    -378.881\n",
       "Vendredi          184.7106     35.795      5.160      0.000     114.469     254.953\n",
       "inc_grippe         -0.0149      0.003     -5.904      0.000      -0.020      -0.010\n",
       "veille_vacances  -220.9788     69.385     -3.185      0.001    -357.137     -84.821\n",
       "noel             1147.8894    133.562      8.594      0.000     885.793    1409.986\n",
       "veille_ferie     -324.2608    118.175     -2.744      0.006    -556.164     -92.358\n",
       "==============================================================================\n",
       "Omnibus:                      100.847   Durbin-Watson:                   1.156\n",
       "Prob(Omnibus):                  0.000   Jarque-Bera (JB):              350.169\n",
       "Skew:                          -0.448   Prob(JB):                     9.16e-77\n",
       "Kurtosis:                       5.753   Cond. No.                     2.30e+05\n",
       "==============================================================================\n",
       "\n",
       "Notes:\n",
       "[1] R² is computed without centering (uncentered) since the model does not contain a constant.\n",
       "[2] Standard Errors assume that the covariance matrix of the errors is correctly specified.\n",
       "[3] The condition number is large, 2.3e+05. This might indicate that there are\n",
       "strong multicollinearity or other numerical problems.\n",
       "\"\"\""
      ]
     },
     "execution_count": 452,
     "metadata": {},
     "output_type": "execute_result"
    }
   ],
   "source": [
    "lm = ols('reel ~ effectif+viande+poisson+Fevrier+Juin+Juillet+Septembre+Lundi+Vendredi+inc_grippe+veille_vacances+noel+veille_ferie -1', data = FM).fit()\n",
    "import statsmodels.api; \n",
    "table = sm.stats.anova_lm(lm)\n",
    "lm.summary()"
   ]
  },
  {
   "cell_type": "code",
   "execution_count": 453,
   "id": "e4e1481d-b42f-4da7-b3f8-bdb86aefdc91",
   "metadata": {},
   "outputs": [],
   "source": [
    "import numpy as np\n",
    "from sklearn import linear_model\n",
    "regr = linear_model.LinearRegression()\n",
    "from sklearn.metrics import mean_squared_error, r2_score\n",
    "from sklearn.model_selection import train_test_split"
   ]
  },
  {
   "cell_type": "markdown",
   "id": "42887223-30c2-481c-803a-fc62daa8ae93",
   "metadata": {},
   "source": [
    "# Jeu d'entraînement jeu de test "
   ]
  },
  {
   "cell_type": "code",
   "execution_count": 454,
   "id": "81e19672-8b59-4cea-9535-f1774f5ef1b6",
   "metadata": {},
   "outputs": [
    {
     "data": {
      "text/plain": [
       "array(['2010-2011', '2011-2012', '2012-2013', '2013-2014', '2014-2015',\n",
       "       '2015-2016', '2016-2017', '2017-2018', '2018-2019', '2019-2020'],\n",
       "      dtype=object)"
      ]
     },
     "execution_count": 454,
     "metadata": {},
     "output_type": "execute_result"
    }
   ],
   "source": [
    "FM.annee_scolaire.unique()"
   ]
  },
  {
   "cell_type": "code",
   "execution_count": 455,
   "id": "fd7590bc-6fbf-4a25-97ca-7a0306bb3240",
   "metadata": {},
   "outputs": [],
   "source": [
    "FM_train = FM[FM['annee_scolaire'].isin(['2010-2011', '2011-2012', '2012-2013', '2013-2014', '2014-2015','2015-2016', '2016-2017', '2017-2018'])] \n",
    "FM_test = FM[FM['annee_scolaire'].isin(['2018-2019'])]\n"
   ]
  },
  {
   "cell_type": "code",
   "execution_count": 456,
   "id": "9375fe5f-e21a-44e6-b136-328718be13e9",
   "metadata": {},
   "outputs": [],
   "source": [
    "xtrain = FM_train[[\"effectif\",\"viande\",\"poisson\",\"Fevrier\",\"Juin\",\"Juillet\",\"Septembre\",\"Lundi\",\"Vendredi\",\"veille_vacances\",\"noel\",\"veille_ferie\"]]\n",
    "xtest =  FM_test[[\"effectif\",\"viande\",\"poisson\",\"Fevrier\",\"Juin\",\"Juillet\",\"Septembre\",\"Lundi\",\"Vendredi\",\"veille_vacances\",\"noel\",\"veille_ferie\"]]\n",
    "ytrain = FM_train[['reel']]\n",
    "ytest = FM_test[['reel']]"
   ]
  },
  {
   "cell_type": "markdown",
   "id": "15a2c279-b75f-4aea-ba7a-b78283e12f2d",
   "metadata": {},
   "source": [
    "# Regression lineaire (DEUXIEME)"
   ]
  },
  {
   "cell_type": "code",
   "execution_count": 457,
   "id": "57bc8c1d-05eb-4da1-acf5-2fa2510b5869",
   "metadata": {},
   "outputs": [
    {
     "data": {
      "text/html": [
       "<style>#sk-container-id-11 {color: black;}#sk-container-id-11 pre{padding: 0;}#sk-container-id-11 div.sk-toggleable {background-color: white;}#sk-container-id-11 label.sk-toggleable__label {cursor: pointer;display: block;width: 100%;margin-bottom: 0;padding: 0.3em;box-sizing: border-box;text-align: center;}#sk-container-id-11 label.sk-toggleable__label-arrow:before {content: \"▸\";float: left;margin-right: 0.25em;color: #696969;}#sk-container-id-11 label.sk-toggleable__label-arrow:hover:before {color: black;}#sk-container-id-11 div.sk-estimator:hover label.sk-toggleable__label-arrow:before {color: black;}#sk-container-id-11 div.sk-toggleable__content {max-height: 0;max-width: 0;overflow: hidden;text-align: left;background-color: #f0f8ff;}#sk-container-id-11 div.sk-toggleable__content pre {margin: 0.2em;color: black;border-radius: 0.25em;background-color: #f0f8ff;}#sk-container-id-11 input.sk-toggleable__control:checked~div.sk-toggleable__content {max-height: 200px;max-width: 100%;overflow: auto;}#sk-container-id-11 input.sk-toggleable__control:checked~label.sk-toggleable__label-arrow:before {content: \"▾\";}#sk-container-id-11 div.sk-estimator input.sk-toggleable__control:checked~label.sk-toggleable__label {background-color: #d4ebff;}#sk-container-id-11 div.sk-label input.sk-toggleable__control:checked~label.sk-toggleable__label {background-color: #d4ebff;}#sk-container-id-11 input.sk-hidden--visually {border: 0;clip: rect(1px 1px 1px 1px);clip: rect(1px, 1px, 1px, 1px);height: 1px;margin: -1px;overflow: hidden;padding: 0;position: absolute;width: 1px;}#sk-container-id-11 div.sk-estimator {font-family: monospace;background-color: #f0f8ff;border: 1px dotted black;border-radius: 0.25em;box-sizing: border-box;margin-bottom: 0.5em;}#sk-container-id-11 div.sk-estimator:hover {background-color: #d4ebff;}#sk-container-id-11 div.sk-parallel-item::after {content: \"\";width: 100%;border-bottom: 1px solid gray;flex-grow: 1;}#sk-container-id-11 div.sk-label:hover label.sk-toggleable__label {background-color: #d4ebff;}#sk-container-id-11 div.sk-serial::before {content: \"\";position: absolute;border-left: 1px solid gray;box-sizing: border-box;top: 0;bottom: 0;left: 50%;z-index: 0;}#sk-container-id-11 div.sk-serial {display: flex;flex-direction: column;align-items: center;background-color: white;padding-right: 0.2em;padding-left: 0.2em;position: relative;}#sk-container-id-11 div.sk-item {position: relative;z-index: 1;}#sk-container-id-11 div.sk-parallel {display: flex;align-items: stretch;justify-content: center;background-color: white;position: relative;}#sk-container-id-11 div.sk-item::before, #sk-container-id-11 div.sk-parallel-item::before {content: \"\";position: absolute;border-left: 1px solid gray;box-sizing: border-box;top: 0;bottom: 0;left: 50%;z-index: -1;}#sk-container-id-11 div.sk-parallel-item {display: flex;flex-direction: column;z-index: 1;position: relative;background-color: white;}#sk-container-id-11 div.sk-parallel-item:first-child::after {align-self: flex-end;width: 50%;}#sk-container-id-11 div.sk-parallel-item:last-child::after {align-self: flex-start;width: 50%;}#sk-container-id-11 div.sk-parallel-item:only-child::after {width: 0;}#sk-container-id-11 div.sk-dashed-wrapped {border: 1px dashed gray;margin: 0 0.4em 0.5em 0.4em;box-sizing: border-box;padding-bottom: 0.4em;background-color: white;}#sk-container-id-11 div.sk-label label {font-family: monospace;font-weight: bold;display: inline-block;line-height: 1.2em;}#sk-container-id-11 div.sk-label-container {text-align: center;}#sk-container-id-11 div.sk-container {/* jupyter's `normalize.less` sets `[hidden] { display: none; }` but bootstrap.min.css set `[hidden] { display: none !important; }` so we also need the `!important` here to be able to override the default hidden behavior on the sphinx rendered scikit-learn.org. See: https://github.com/scikit-learn/scikit-learn/issues/21755 */display: inline-block !important;position: relative;}#sk-container-id-11 div.sk-text-repr-fallback {display: none;}</style><div id=\"sk-container-id-11\" class=\"sk-top-container\"><div class=\"sk-text-repr-fallback\"><pre>LinearRegression()</pre><b>In a Jupyter environment, please rerun this cell to show the HTML representation or trust the notebook. <br />On GitHub, the HTML representation is unable to render, please try loading this page with nbviewer.org.</b></div><div class=\"sk-container\" hidden><div class=\"sk-item\"><div class=\"sk-estimator sk-toggleable\"><input class=\"sk-toggleable__control sk-hidden--visually\" id=\"sk-estimator-id-11\" type=\"checkbox\" checked><label for=\"sk-estimator-id-11\" class=\"sk-toggleable__label sk-toggleable__label-arrow\">LinearRegression</label><div class=\"sk-toggleable__content\"><pre>LinearRegression()</pre></div></div></div></div></div>"
      ],
      "text/plain": [
       "LinearRegression()"
      ]
     },
     "execution_count": 457,
     "metadata": {},
     "output_type": "execute_result"
    }
   ],
   "source": [
    "regr.fit(xtrain,ytrain)"
   ]
  },
  {
   "cell_type": "code",
   "execution_count": 458,
   "id": "2c241789-4b0a-42cb-af63-30c6f5fb905c",
   "metadata": {},
   "outputs": [],
   "source": [
    "ypred_train = regr.predict(xtrain)"
   ]
  },
  {
   "cell_type": "code",
   "execution_count": 459,
   "id": "1ba640ab-fa1a-470e-8dce-282d8ffbb68d",
   "metadata": {},
   "outputs": [],
   "source": [
    "ypred_test = regr.predict(xtest)"
   ]
  },
  {
   "cell_type": "raw",
   "id": "2b5f4aa5-58b7-4143-a8cc-5cc05c2b96f8",
   "metadata": {},
   "source": [
    "+ 461\n",
    "* (1 + 0.0318)"
   ]
  },
  {
   "cell_type": "code",
   "execution_count": 460,
   "id": "22b66388-51ab-4e94-95f8-1c77fd9b059c",
   "metadata": {},
   "outputs": [],
   "source": [
    "# ici on créé une varible de prediction pour pouvoir jouer sur le pourcentage de repas que l'on rajoute \n",
    "# pour optimiser notre prédiction\n",
    "\n",
    "Xpredict  = regr.predict(xtest) * (1 + 0.023)"
   ]
  },
  {
   "cell_type": "code",
   "execution_count": 461,
   "id": "e949544a-cf58-41e8-a8a6-ef22646060bd",
   "metadata": {},
   "outputs": [
    {
     "data": {
      "text/plain": [
       "0.8860195229695866"
      ]
     },
     "execution_count": 461,
     "metadata": {},
     "output_type": "execute_result"
    }
   ],
   "source": [
    "r2_score(ytrain, ypred_train)"
   ]
  },
  {
   "cell_type": "code",
   "execution_count": 462,
   "id": "6f4eb79a-b857-480f-a150-155b7572c7e4",
   "metadata": {},
   "outputs": [
    {
     "data": {
      "text/plain": [
       "0.4656884447015198"
      ]
     },
     "execution_count": 462,
     "metadata": {},
     "output_type": "execute_result"
    }
   ],
   "source": [
    "r2_score(ytest, ypred_test)"
   ]
  },
  {
   "cell_type": "code",
   "execution_count": 463,
   "id": "57ed2460-76bc-47db-8ae4-f52e52cbd9e5",
   "metadata": {},
   "outputs": [
    {
     "name": "stderr",
     "output_type": "stream",
     "text": [
      "C:\\Users\\Utilisateur\\AppData\\Local\\Temp\\ipykernel_2320\\3014264685.py:4: SettingWithCopyWarning: \n",
      "A value is trying to be set on a copy of a slice from a DataFrame.\n",
      "Try using .loc[row_indexer,col_indexer] = value instead\n",
      "\n",
      "See the caveats in the documentation: https://pandas.pydata.org/pandas-docs/stable/user_guide/indexing.html#returning-a-view-versus-a-copy\n",
      "  FINAL[\"pred\"] = Xpredict\n",
      "C:\\Users\\Utilisateur\\AppData\\Local\\Temp\\ipykernel_2320\\3014264685.py:5: SettingWithCopyWarning: \n",
      "A value is trying to be set on a copy of a slice from a DataFrame.\n",
      "Try using .loc[row_indexer,col_indexer] = value instead\n",
      "\n",
      "See the caveats in the documentation: https://pandas.pydata.org/pandas-docs/stable/user_guide/indexing.html#returning-a-view-versus-a-copy\n",
      "  FINAL[\"marge IA\"] = FINAL[\"pred\"] - FINAL[\"reel\"]\n",
      "C:\\Users\\Utilisateur\\AppData\\Local\\Temp\\ipykernel_2320\\3014264685.py:6: SettingWithCopyWarning: \n",
      "A value is trying to be set on a copy of a slice from a DataFrame.\n",
      "Try using .loc[row_indexer,col_indexer] = value instead\n",
      "\n",
      "See the caveats in the documentation: https://pandas.pydata.org/pandas-docs/stable/user_guide/indexing.html#returning-a-view-versus-a-copy\n",
      "  FINAL[\"marge IA\"] = FINAL[\"marge IA\"].astype(int)\n",
      "C:\\Users\\Utilisateur\\AppData\\Local\\Temp\\ipykernel_2320\\3014264685.py:7: SettingWithCopyWarning: \n",
      "A value is trying to be set on a copy of a slice from a DataFrame.\n",
      "Try using .loc[row_indexer,col_indexer] = value instead\n",
      "\n",
      "See the caveats in the documentation: https://pandas.pydata.org/pandas-docs/stable/user_guide/indexing.html#returning-a-view-versus-a-copy\n",
      "  FINAL[\"marge ecole\"] = FINAL[\"prevision\"] - FINAL[\"reel\"]\n"
     ]
    }
   ],
   "source": [
    "#on un dataframe pour comparer nos prédictions à celle de l'école\n",
    "\n",
    "FINAL = FM_test[[\"date\",\"prevision\",\"reel\"]]\n",
    "FINAL[\"pred\"] = Xpredict \n",
    "FINAL[\"marge IA\"] = FINAL[\"pred\"] - FINAL[\"reel\"]\n",
    "FINAL[\"marge IA\"] = FINAL[\"marge IA\"].astype(int)\n",
    "FINAL[\"marge ecole\"] = FINAL[\"prevision\"] - FINAL[\"reel\"]\n",
    "# les colonne marge représente la sur ou sous production de repas "
   ]
  },
  {
   "cell_type": "code",
   "execution_count": 464,
   "id": "92dabf65-dbff-4d8c-8058-6c2cd1b6d231",
   "metadata": {},
   "outputs": [
    {
     "name": "stdout",
     "output_type": "stream",
     "text": [
      "le nombre de jours de sous production pour l'école est: 1\n",
      "le nombre de jours de sous production pour le modèle est: 6\n"
     ]
    }
   ],
   "source": [
    "print(\"le nombre de jours de sous production pour l'école est:\", (FINAL[\"marge ecole\"] < 0).sum())\n",
    "print(\"le nombre de jours de sous production pour le modèle est:\", (FINAL[\"marge IA\"] < 0).sum())"
   ]
  },
  {
   "cell_type": "code",
   "execution_count": 465,
   "id": "db0bc3ac-64b7-4716-a0ca-aea827e96409",
   "metadata": {},
   "outputs": [
    {
     "name": "stdout",
     "output_type": "stream",
     "text": [
      "avec ce modele on a reduit le gaspillage alimentaire de 41.34  % par rapport au modele de l'école, en partant du principe qu'il y aura 6 jour avec -200 repas maximum \n"
     ]
    }
   ],
   "source": [
    "print(\"avec ce modele on a reduit le gaspillage alimentaire de\",round((FINAL[\"marge ecole\"].sum() - FINAL[\"marge IA\"].sum())/FINAL[\"marge ecole\"].sum()*100, 2),\" % par rapport au modele de l'école, en partant du principe qu'il y aura 6 jour avec -200 repas maximum \")"
   ]
  },
  {
   "cell_type": "code",
   "execution_count": 466,
   "id": "a218a259-d42e-4b10-9f2d-1928a04eaa52",
   "metadata": {},
   "outputs": [],
   "source": [
    "Xpredict  = regr.predict(xtest) * (1 + 0.0318)"
   ]
  },
  {
   "cell_type": "code",
   "execution_count": 467,
   "id": "7c42e7e1-6c48-490b-9fbc-eb5aca8f7adf",
   "metadata": {},
   "outputs": [
    {
     "name": "stdout",
     "output_type": "stream",
     "text": [
      "le nombre de jours de sous production pour le modèle est: 6\n"
     ]
    }
   ],
   "source": [
    "print(\"le nombre de jours de sous production pour le modèle est:\", (FINAL[\"marge IA\"] < 0).sum())"
   ]
  },
  {
   "cell_type": "code",
   "execution_count": 468,
   "id": "70578808-a5e1-4ba1-9b89-c3fa36d0cba8",
   "metadata": {},
   "outputs": [
    {
     "name": "stderr",
     "output_type": "stream",
     "text": [
      "C:\\Users\\Utilisateur\\AppData\\Local\\Temp\\ipykernel_2320\\1222400473.py:2: SettingWithCopyWarning: \n",
      "A value is trying to be set on a copy of a slice from a DataFrame.\n",
      "Try using .loc[row_indexer,col_indexer] = value instead\n",
      "\n",
      "See the caveats in the documentation: https://pandas.pydata.org/pandas-docs/stable/user_guide/indexing.html#returning-a-view-versus-a-copy\n",
      "  FINAL[\"pred\"] = Xpredict\n",
      "C:\\Users\\Utilisateur\\AppData\\Local\\Temp\\ipykernel_2320\\1222400473.py:3: SettingWithCopyWarning: \n",
      "A value is trying to be set on a copy of a slice from a DataFrame.\n",
      "Try using .loc[row_indexer,col_indexer] = value instead\n",
      "\n",
      "See the caveats in the documentation: https://pandas.pydata.org/pandas-docs/stable/user_guide/indexing.html#returning-a-view-versus-a-copy\n",
      "  FINAL[\"marge IA\"] = FINAL[\"pred\"] - FINAL[\"reel\"]\n",
      "C:\\Users\\Utilisateur\\AppData\\Local\\Temp\\ipykernel_2320\\1222400473.py:4: SettingWithCopyWarning: \n",
      "A value is trying to be set on a copy of a slice from a DataFrame.\n",
      "Try using .loc[row_indexer,col_indexer] = value instead\n",
      "\n",
      "See the caveats in the documentation: https://pandas.pydata.org/pandas-docs/stable/user_guide/indexing.html#returning-a-view-versus-a-copy\n",
      "  FINAL[\"marge IA\"] = FINAL[\"marge IA\"].astype(int)\n",
      "C:\\Users\\Utilisateur\\AppData\\Local\\Temp\\ipykernel_2320\\1222400473.py:5: SettingWithCopyWarning: \n",
      "A value is trying to be set on a copy of a slice from a DataFrame.\n",
      "Try using .loc[row_indexer,col_indexer] = value instead\n",
      "\n",
      "See the caveats in the documentation: https://pandas.pydata.org/pandas-docs/stable/user_guide/indexing.html#returning-a-view-versus-a-copy\n",
      "  FINAL[\"marge ecole\"] = FINAL[\"prevision\"] - FINAL[\"reel\"]\n"
     ]
    }
   ],
   "source": [
    "FINAL = FM_test[[\"date\",\"prevision\",\"reel\"]]\n",
    "FINAL[\"pred\"] = Xpredict \n",
    "FINAL[\"marge IA\"] = FINAL[\"pred\"] - FINAL[\"reel\"]\n",
    "FINAL[\"marge IA\"] = FINAL[\"marge IA\"].astype(int)\n",
    "FINAL[\"marge ecole\"] = FINAL[\"prevision\"] - FINAL[\"reel\"]"
   ]
  },
  {
   "cell_type": "code",
   "execution_count": 469,
   "id": "446b15de-2440-49e5-8c9f-a1d027b7f2bf",
   "metadata": {},
   "outputs": [
    {
     "name": "stdout",
     "output_type": "stream",
     "text": [
      "avec ce modele on a reduit le gaspillage alimentaire de 27  % par rapport au modele de l'école, , en partant du principe qu'il y aura O jour de sous productions\n"
     ]
    }
   ],
   "source": [
    "print(\"avec ce modele on a reduit le gaspillage alimentaire de\",round((FINAL[\"marge ecole\"].sum() - FINAL[\"marge IA\"].sum())/FINAL[\"marge ecole\"].sum()*100),\" % par rapport au modele de l'école, , en partant du principe qu'il y aura O jour de sous productions\")"
   ]
  },
  {
   "cell_type": "markdown",
   "id": "7957e108-f821-4bc8-b4fb-4fa651efb9fb",
   "metadata": {},
   "source": [
    "# Gradient Boosting Regressor (MEILLEUR)"
   ]
  },
  {
   "cell_type": "code",
   "execution_count": 470,
   "id": "17a50a8a-a11e-4f6d-82c2-bdfaefa02f7b",
   "metadata": {},
   "outputs": [],
   "source": [
    "from sklearn.ensemble import GradientBoostingRegressor\n",
    "from sklearn.model_selection import train_test_split\n",
    "from sklearn.metrics import mean_squared_error\n",
    "import matplotlib.pyplot as plt"
   ]
  },
  {
   "cell_type": "code",
   "execution_count": 471,
   "id": "9ed08bfb-83ce-419c-b698-b05e98466e69",
   "metadata": {},
   "outputs": [
    {
     "name": "stdout",
     "output_type": "stream",
     "text": [
      "GradientBoostingRegressor()\n"
     ]
    }
   ],
   "source": [
    "# with new parameters\n",
    "gbr = GradientBoostingRegressor(n_estimators=1000, \n",
    "    max_depth=10, \n",
    "    learning_rate=0.001, \n",
    "    min_samples_split=3)\n",
    "# with default parameters\n",
    "gbr = GradientBoostingRegressor()\n",
    " \n",
    "print(gbr)"
   ]
  },
  {
   "cell_type": "code",
   "execution_count": 472,
   "id": "986794c6-6c03-4b97-b25a-641910826715",
   "metadata": {},
   "outputs": [
    {
     "name": "stderr",
     "output_type": "stream",
     "text": [
      "C:\\Users\\Utilisateur\\anaconda3\\lib\\site-packages\\sklearn\\ensemble\\_gb.py:424: DataConversionWarning: A column-vector y was passed when a 1d array was expected. Please change the shape of y to (n_samples, ), for example using ravel().\n",
      "  y = column_or_1d(y, warn=True)\n"
     ]
    },
    {
     "data": {
      "text/html": [
       "<style>#sk-container-id-12 {color: black;}#sk-container-id-12 pre{padding: 0;}#sk-container-id-12 div.sk-toggleable {background-color: white;}#sk-container-id-12 label.sk-toggleable__label {cursor: pointer;display: block;width: 100%;margin-bottom: 0;padding: 0.3em;box-sizing: border-box;text-align: center;}#sk-container-id-12 label.sk-toggleable__label-arrow:before {content: \"▸\";float: left;margin-right: 0.25em;color: #696969;}#sk-container-id-12 label.sk-toggleable__label-arrow:hover:before {color: black;}#sk-container-id-12 div.sk-estimator:hover label.sk-toggleable__label-arrow:before {color: black;}#sk-container-id-12 div.sk-toggleable__content {max-height: 0;max-width: 0;overflow: hidden;text-align: left;background-color: #f0f8ff;}#sk-container-id-12 div.sk-toggleable__content pre {margin: 0.2em;color: black;border-radius: 0.25em;background-color: #f0f8ff;}#sk-container-id-12 input.sk-toggleable__control:checked~div.sk-toggleable__content {max-height: 200px;max-width: 100%;overflow: auto;}#sk-container-id-12 input.sk-toggleable__control:checked~label.sk-toggleable__label-arrow:before {content: \"▾\";}#sk-container-id-12 div.sk-estimator input.sk-toggleable__control:checked~label.sk-toggleable__label {background-color: #d4ebff;}#sk-container-id-12 div.sk-label input.sk-toggleable__control:checked~label.sk-toggleable__label {background-color: #d4ebff;}#sk-container-id-12 input.sk-hidden--visually {border: 0;clip: rect(1px 1px 1px 1px);clip: rect(1px, 1px, 1px, 1px);height: 1px;margin: -1px;overflow: hidden;padding: 0;position: absolute;width: 1px;}#sk-container-id-12 div.sk-estimator {font-family: monospace;background-color: #f0f8ff;border: 1px dotted black;border-radius: 0.25em;box-sizing: border-box;margin-bottom: 0.5em;}#sk-container-id-12 div.sk-estimator:hover {background-color: #d4ebff;}#sk-container-id-12 div.sk-parallel-item::after {content: \"\";width: 100%;border-bottom: 1px solid gray;flex-grow: 1;}#sk-container-id-12 div.sk-label:hover label.sk-toggleable__label {background-color: #d4ebff;}#sk-container-id-12 div.sk-serial::before {content: \"\";position: absolute;border-left: 1px solid gray;box-sizing: border-box;top: 0;bottom: 0;left: 50%;z-index: 0;}#sk-container-id-12 div.sk-serial {display: flex;flex-direction: column;align-items: center;background-color: white;padding-right: 0.2em;padding-left: 0.2em;position: relative;}#sk-container-id-12 div.sk-item {position: relative;z-index: 1;}#sk-container-id-12 div.sk-parallel {display: flex;align-items: stretch;justify-content: center;background-color: white;position: relative;}#sk-container-id-12 div.sk-item::before, #sk-container-id-12 div.sk-parallel-item::before {content: \"\";position: absolute;border-left: 1px solid gray;box-sizing: border-box;top: 0;bottom: 0;left: 50%;z-index: -1;}#sk-container-id-12 div.sk-parallel-item {display: flex;flex-direction: column;z-index: 1;position: relative;background-color: white;}#sk-container-id-12 div.sk-parallel-item:first-child::after {align-self: flex-end;width: 50%;}#sk-container-id-12 div.sk-parallel-item:last-child::after {align-self: flex-start;width: 50%;}#sk-container-id-12 div.sk-parallel-item:only-child::after {width: 0;}#sk-container-id-12 div.sk-dashed-wrapped {border: 1px dashed gray;margin: 0 0.4em 0.5em 0.4em;box-sizing: border-box;padding-bottom: 0.4em;background-color: white;}#sk-container-id-12 div.sk-label label {font-family: monospace;font-weight: bold;display: inline-block;line-height: 1.2em;}#sk-container-id-12 div.sk-label-container {text-align: center;}#sk-container-id-12 div.sk-container {/* jupyter's `normalize.less` sets `[hidden] { display: none; }` but bootstrap.min.css set `[hidden] { display: none !important; }` so we also need the `!important` here to be able to override the default hidden behavior on the sphinx rendered scikit-learn.org. See: https://github.com/scikit-learn/scikit-learn/issues/21755 */display: inline-block !important;position: relative;}#sk-container-id-12 div.sk-text-repr-fallback {display: none;}</style><div id=\"sk-container-id-12\" class=\"sk-top-container\"><div class=\"sk-text-repr-fallback\"><pre>GradientBoostingRegressor()</pre><b>In a Jupyter environment, please rerun this cell to show the HTML representation or trust the notebook. <br />On GitHub, the HTML representation is unable to render, please try loading this page with nbviewer.org.</b></div><div class=\"sk-container\" hidden><div class=\"sk-item\"><div class=\"sk-estimator sk-toggleable\"><input class=\"sk-toggleable__control sk-hidden--visually\" id=\"sk-estimator-id-12\" type=\"checkbox\" checked><label for=\"sk-estimator-id-12\" class=\"sk-toggleable__label sk-toggleable__label-arrow\">GradientBoostingRegressor</label><div class=\"sk-toggleable__content\"><pre>GradientBoostingRegressor()</pre></div></div></div></div></div>"
      ],
      "text/plain": [
       "GradientBoostingRegressor()"
      ]
     },
     "execution_count": 472,
     "metadata": {},
     "output_type": "execute_result"
    }
   ],
   "source": [
    "gbr.fit(xtrain,ytrain)"
   ]
  },
  {
   "cell_type": "raw",
   "id": "f38182ad-f2cb-43fe-810a-0ca6c93fb07a",
   "metadata": {},
   "source": [
    "828.1\n",
    "* (1+ 0.0595)"
   ]
  },
  {
   "cell_type": "code",
   "execution_count": 473,
   "id": "5c2a677a-003c-4f55-a2ea-2ad9e2743813",
   "metadata": {},
   "outputs": [
    {
     "data": {
      "text/plain": [
       "0.3656047554949511"
      ]
     },
     "execution_count": 473,
     "metadata": {},
     "output_type": "execute_result"
    }
   ],
   "source": [
    "Xbgr = gbr.predict(xtest) * (1+ 0.044)\n",
    "ypred_test = gbr.predict(xtest)\n",
    "r2_score(ytest, ypred_test)"
   ]
  },
  {
   "cell_type": "code",
   "execution_count": 474,
   "id": "16de7912-cb59-4045-8fe9-b788fd2e2e07",
   "metadata": {},
   "outputs": [
    {
     "name": "stderr",
     "output_type": "stream",
     "text": [
      "C:\\Users\\Utilisateur\\AppData\\Local\\Temp\\ipykernel_2320\\84572754.py:2: SettingWithCopyWarning: \n",
      "A value is trying to be set on a copy of a slice from a DataFrame.\n",
      "Try using .loc[row_indexer,col_indexer] = value instead\n",
      "\n",
      "See the caveats in the documentation: https://pandas.pydata.org/pandas-docs/stable/user_guide/indexing.html#returning-a-view-versus-a-copy\n",
      "  FINALgbr[\"pred\"] = Xbgr\n",
      "C:\\Users\\Utilisateur\\AppData\\Local\\Temp\\ipykernel_2320\\84572754.py:3: SettingWithCopyWarning: \n",
      "A value is trying to be set on a copy of a slice from a DataFrame.\n",
      "Try using .loc[row_indexer,col_indexer] = value instead\n",
      "\n",
      "See the caveats in the documentation: https://pandas.pydata.org/pandas-docs/stable/user_guide/indexing.html#returning-a-view-versus-a-copy\n",
      "  FINALgbr[\"marge IA\"] = FINALgbr[\"pred\"] - FINALgbr[\"reel\"]\n",
      "C:\\Users\\Utilisateur\\AppData\\Local\\Temp\\ipykernel_2320\\84572754.py:4: SettingWithCopyWarning: \n",
      "A value is trying to be set on a copy of a slice from a DataFrame.\n",
      "Try using .loc[row_indexer,col_indexer] = value instead\n",
      "\n",
      "See the caveats in the documentation: https://pandas.pydata.org/pandas-docs/stable/user_guide/indexing.html#returning-a-view-versus-a-copy\n",
      "  FINALgbr[\"marge IA\"] = FINALgbr[\"marge IA\"].astype(int)\n",
      "C:\\Users\\Utilisateur\\AppData\\Local\\Temp\\ipykernel_2320\\84572754.py:5: SettingWithCopyWarning: \n",
      "A value is trying to be set on a copy of a slice from a DataFrame.\n",
      "Try using .loc[row_indexer,col_indexer] = value instead\n",
      "\n",
      "See the caveats in the documentation: https://pandas.pydata.org/pandas-docs/stable/user_guide/indexing.html#returning-a-view-versus-a-copy\n",
      "  FINALgbr[\"marge ecole\"] = FINALgbr[\"prevision\"] - FINALgbr[\"reel\"]\n"
     ]
    }
   ],
   "source": [
    "FINALgbr = FM_test[[\"date\",\"jour\",\"prevision\",\"reel\"]]\n",
    "FINALgbr[\"pred\"] = Xbgr\n",
    "FINALgbr[\"marge IA\"] = FINALgbr[\"pred\"] - FINALgbr[\"reel\"]\n",
    "FINALgbr[\"marge IA\"] = FINALgbr[\"marge IA\"].astype(int)\n",
    "FINALgbr[\"marge ecole\"] = FINALgbr[\"prevision\"] - FINALgbr[\"reel\"]"
   ]
  },
  {
   "cell_type": "code",
   "execution_count": 475,
   "id": "6a0b7bef-e644-49a5-89bd-64d164de22f6",
   "metadata": {},
   "outputs": [
    {
     "name": "stdout",
     "output_type": "stream",
     "text": [
      "le nombre de jours de sous production pour le modèle est: 7\n",
      "le nombre de jours de sous production pour l'ecole est: 1\n"
     ]
    }
   ],
   "source": [
    "print(\"le nombre de jours de sous production pour le modèle est:\",(FINALgbr[\"marge IA\"] < 0).sum())\n",
    "print(\"le nombre de jours de sous production pour l'ecole est:\",(FINALgbr[\"marge ecole\"] < 0).sum())"
   ]
  },
  {
   "cell_type": "code",
   "execution_count": 476,
   "id": "45ca798f-a8b1-4f20-b0b9-87a587687bac",
   "metadata": {},
   "outputs": [
    {
     "name": "stdout",
     "output_type": "stream",
     "text": [
      "avec ce modele on a reduit le gaspillage alimentaire de 49  % par rapport au modele de l'école, , en partant du principe qu'il y aura 6 jour avec -200 repas maximum\n"
     ]
    }
   ],
   "source": [
    "print(\"avec ce modele on a reduit le gaspillage alimentaire de\",round((FINALgbr[\"marge ecole\"].sum() - FINALgbr[\"marge IA\"].sum())/FINALgbr[\"marge ecole\"].sum()*100),\" % par rapport au modele de l'école, , en partant du principe qu'il y aura 6 jour avec -200 repas maximum\")"
   ]
  },
  {
   "cell_type": "code",
   "execution_count": 477,
   "id": "be460817-6349-4dd6-a740-eeb139ee8235",
   "metadata": {},
   "outputs": [],
   "source": [
    "Xbgr = gbr.predict(xtest) * (1+ 0.0595)"
   ]
  },
  {
   "cell_type": "code",
   "execution_count": 478,
   "id": "88edc717-55af-4bce-b605-119269f8af43",
   "metadata": {},
   "outputs": [
    {
     "name": "stdout",
     "output_type": "stream",
     "text": [
      "le nombre de jours de sous production pour le modèle est: 7\n"
     ]
    }
   ],
   "source": [
    "print(\"le nombre de jours de sous production pour le modèle est:\",(FINALgbr[\"marge IA\"] < 0).sum())"
   ]
  },
  {
   "cell_type": "code",
   "execution_count": 479,
   "id": "07dbe12b-1ef5-4aec-b209-8409f4790727",
   "metadata": {},
   "outputs": [
    {
     "name": "stderr",
     "output_type": "stream",
     "text": [
      "C:\\Users\\Utilisateur\\AppData\\Local\\Temp\\ipykernel_2320\\84572754.py:2: SettingWithCopyWarning: \n",
      "A value is trying to be set on a copy of a slice from a DataFrame.\n",
      "Try using .loc[row_indexer,col_indexer] = value instead\n",
      "\n",
      "See the caveats in the documentation: https://pandas.pydata.org/pandas-docs/stable/user_guide/indexing.html#returning-a-view-versus-a-copy\n",
      "  FINALgbr[\"pred\"] = Xbgr\n",
      "C:\\Users\\Utilisateur\\AppData\\Local\\Temp\\ipykernel_2320\\84572754.py:3: SettingWithCopyWarning: \n",
      "A value is trying to be set on a copy of a slice from a DataFrame.\n",
      "Try using .loc[row_indexer,col_indexer] = value instead\n",
      "\n",
      "See the caveats in the documentation: https://pandas.pydata.org/pandas-docs/stable/user_guide/indexing.html#returning-a-view-versus-a-copy\n",
      "  FINALgbr[\"marge IA\"] = FINALgbr[\"pred\"] - FINALgbr[\"reel\"]\n",
      "C:\\Users\\Utilisateur\\AppData\\Local\\Temp\\ipykernel_2320\\84572754.py:4: SettingWithCopyWarning: \n",
      "A value is trying to be set on a copy of a slice from a DataFrame.\n",
      "Try using .loc[row_indexer,col_indexer] = value instead\n",
      "\n",
      "See the caveats in the documentation: https://pandas.pydata.org/pandas-docs/stable/user_guide/indexing.html#returning-a-view-versus-a-copy\n",
      "  FINALgbr[\"marge IA\"] = FINALgbr[\"marge IA\"].astype(int)\n",
      "C:\\Users\\Utilisateur\\AppData\\Local\\Temp\\ipykernel_2320\\84572754.py:5: SettingWithCopyWarning: \n",
      "A value is trying to be set on a copy of a slice from a DataFrame.\n",
      "Try using .loc[row_indexer,col_indexer] = value instead\n",
      "\n",
      "See the caveats in the documentation: https://pandas.pydata.org/pandas-docs/stable/user_guide/indexing.html#returning-a-view-versus-a-copy\n",
      "  FINALgbr[\"marge ecole\"] = FINALgbr[\"prevision\"] - FINALgbr[\"reel\"]\n"
     ]
    }
   ],
   "source": [
    "FINALgbr = FM_test[[\"date\",\"jour\",\"prevision\",\"reel\"]]\n",
    "FINALgbr[\"pred\"] = Xbgr\n",
    "FINALgbr[\"marge IA\"] = FINALgbr[\"pred\"] - FINALgbr[\"reel\"]\n",
    "FINALgbr[\"marge IA\"] = FINALgbr[\"marge IA\"].astype(int)\n",
    "FINALgbr[\"marge ecole\"] = FINALgbr[\"prevision\"] - FINALgbr[\"reel\"]"
   ]
  },
  {
   "cell_type": "code",
   "execution_count": 480,
   "id": "4d73eb0f-87c7-4087-8fa6-d45311b195b8",
   "metadata": {},
   "outputs": [
    {
     "name": "stdout",
     "output_type": "stream",
     "text": [
      "avec ce modele on a reduit le gaspillage alimentaire de 24  % par rapport au modele de l'école, , en partant du principe qu'il y aura O jour de sous productions\n"
     ]
    }
   ],
   "source": [
    "print(\"avec ce modele on a reduit le gaspillage alimentaire de\",round((FINALgbr[\"marge ecole\"].sum() - FINALgbr[\"marge IA\"].sum())/FINALgbr[\"marge ecole\"].sum()*100),\" % par rapport au modele de l'école, , en partant du principe qu'il y aura O jour de sous productions\")"
   ]
  }
 ],
 "metadata": {
  "kernelspec": {
   "display_name": "Python 3 (ipykernel)",
   "language": "python",
   "name": "python3"
  },
  "language_info": {
   "codemirror_mode": {
    "name": "ipython",
    "version": 3
   },
   "file_extension": ".py",
   "mimetype": "text/x-python",
   "name": "python",
   "nbconvert_exporter": "python",
   "pygments_lexer": "ipython3",
   "version": "3.10.9"
  }
 },
 "nbformat": 4,
 "nbformat_minor": 5
}
